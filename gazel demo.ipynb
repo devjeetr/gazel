{
 "cells": [
  {
   "cell_type": "markdown",
   "metadata": {},
   "source": [
    "# gazel: Supporting Source Code Edits in Eye-Tracking Studies\n",
    "\n"
   ]
  },
  {
   "cell_type": "code",
   "execution_count": 20,
   "metadata": {},
   "outputs": [],
   "source": [
    "from gazel import Tracker, fixation_filters, pprint\n",
    "from gazel.fixation_filters.ivt import IVTConfig\n",
    "import json\n",
    "import os\n"
   ]
  },
  {
   "cell_type": "markdown",
   "metadata": {},
   "source": [
    "## Step 1: Get your files ready \n",
    "\n",
    "To use `gazel`, you need:\n",
    "* the `itrace-core` xml file \n",
    "* the `itrace-atom` xml file \n",
    "* the `itrace-atom` changelog file\n",
    "* source files used in the experiment"
   ]
  },
  {
   "cell_type": "code",
   "execution_count": 21,
   "metadata": {},
   "outputs": [],
   "source": [
    "def load_file(filepath):\n",
    "    with open(filepath, newline=\"\") as f:\n",
    "        return f.read()\n",
    "\n",
    "base = \"./demo-data/cpp\"\n",
    "core_file = os.path.join(base, \"core.xml\")\n",
    "plugin_file = os.path.join(base, \"plugin.xml\")\n",
    "change_log_file = os.path.join(base, \"changelog.json\")\n",
    "source_file = os.path.join(base, \"Sample-Data.cpp\")\n",
    "\n",
    "changelog = json.loads(load_file(change_log_file))[\"log\"][:-1]\n",
    "source = load_file(source_file)"
   ]
  },
  {
   "cell_type": "markdown",
   "metadata": {},
   "source": [
    "## Step 2: Process your raw gazes into fixations"
   ]
  },
  {
   "cell_type": "code",
   "execution_count": 22,
   "metadata": {
    "tags": []
   },
   "outputs": [
    {
     "output_type": "stream",
     "name": "stderr",
     "text": [
      "/home/devjeetroy/miniconda3/envs/research/lib/python3.9/site-packages/pandas/core/frame.py:1549: FutureWarning: Using short name for 'orient' is deprecated. Only the options: ('dict', list, 'series', 'split', 'records', 'index') will be used in a future version. Use one of the above to silence this warning.\n  warnings.warn(\n"
     ]
    },
    {
     "output_type": "execute_result",
     "data": {
      "text/plain": [
       "            x           y           target  source_file_line  source_file_col  \\\n",
       "0  204.863636  481.409091  Sample-Data.cpp                -1               -1   \n",
       "1  330.795000  186.350000  Sample-Data.cpp                -1               -1   \n",
       "2  349.114583  218.625000  Sample-Data.cpp                 3               20   \n",
       "3  265.439306  303.161850  Sample-Data.cpp                 5                6   \n",
       "4  495.346354  385.559896  Sample-Data.cpp                 7               26   \n",
       "\n",
       "   left_pupil_diameter  right_pupil_diameter  duration  fixation_event_time  \\\n",
       "0                  0.0                   0.0       669   132471644153487228   \n",
       "1                  0.0                   0.0      6284   132471644161441789   \n",
       "2                  0.0                   0.0      2992   132471644225214029   \n",
       "3                  0.0                   0.0      5481   132471644256067835   \n",
       "4                  0.0                   0.0     12143   132471644311809218   \n",
       "\n",
       "     system_time  \n",
       "0  1602690815340  \n",
       "1  1602690816135  \n",
       "2  1602690822513  \n",
       "3  1602690825598  \n",
       "4  1602690831172  "
      ],
      "text/html": "<div>\n<style scoped>\n    .dataframe tbody tr th:only-of-type {\n        vertical-align: middle;\n    }\n\n    .dataframe tbody tr th {\n        vertical-align: top;\n    }\n\n    .dataframe thead th {\n        text-align: right;\n    }\n</style>\n<table border=\"1\" class=\"dataframe\">\n  <thead>\n    <tr style=\"text-align: right;\">\n      <th></th>\n      <th>x</th>\n      <th>y</th>\n      <th>target</th>\n      <th>source_file_line</th>\n      <th>source_file_col</th>\n      <th>left_pupil_diameter</th>\n      <th>right_pupil_diameter</th>\n      <th>duration</th>\n      <th>fixation_event_time</th>\n      <th>system_time</th>\n    </tr>\n  </thead>\n  <tbody>\n    <tr>\n      <th>0</th>\n      <td>204.863636</td>\n      <td>481.409091</td>\n      <td>Sample-Data.cpp</td>\n      <td>-1</td>\n      <td>-1</td>\n      <td>0.0</td>\n      <td>0.0</td>\n      <td>669</td>\n      <td>132471644153487228</td>\n      <td>1602690815340</td>\n    </tr>\n    <tr>\n      <th>1</th>\n      <td>330.795000</td>\n      <td>186.350000</td>\n      <td>Sample-Data.cpp</td>\n      <td>-1</td>\n      <td>-1</td>\n      <td>0.0</td>\n      <td>0.0</td>\n      <td>6284</td>\n      <td>132471644161441789</td>\n      <td>1602690816135</td>\n    </tr>\n    <tr>\n      <th>2</th>\n      <td>349.114583</td>\n      <td>218.625000</td>\n      <td>Sample-Data.cpp</td>\n      <td>3</td>\n      <td>20</td>\n      <td>0.0</td>\n      <td>0.0</td>\n      <td>2992</td>\n      <td>132471644225214029</td>\n      <td>1602690822513</td>\n    </tr>\n    <tr>\n      <th>3</th>\n      <td>265.439306</td>\n      <td>303.161850</td>\n      <td>Sample-Data.cpp</td>\n      <td>5</td>\n      <td>6</td>\n      <td>0.0</td>\n      <td>0.0</td>\n      <td>5481</td>\n      <td>132471644256067835</td>\n      <td>1602690825598</td>\n    </tr>\n    <tr>\n      <th>4</th>\n      <td>495.346354</td>\n      <td>385.559896</td>\n      <td>Sample-Data.cpp</td>\n      <td>7</td>\n      <td>26</td>\n      <td>0.0</td>\n      <td>0.0</td>\n      <td>12143</td>\n      <td>132471644311809218</td>\n      <td>1602690831172</td>\n    </tr>\n  </tbody>\n</table>\n</div>"
     },
     "metadata": {},
     "execution_count": 22
    }
   ],
   "source": [
    "\n",
    "fixations = fixation_filters.core.ivt(core_file, plugin_file, changelog, IVTConfig(50, 80))\n",
    "\n",
    "fixations.head()"
   ]
  },
  {
   "cell_type": "markdown",
   "metadata": {},
   "source": [
    "## Step 3: Now you can use `Tracker` to examine your fixations with syntactic information"
   ]
  },
  {
   "cell_type": "code",
   "execution_count": 23,
   "metadata": {
    "scrolled": false
   },
   "outputs": [
    {
     "output_type": "execute_result",
     "data": {
      "text/plain": [
       "             x           y           target  source_file_line  \\\n",
       "0   204.863636  481.409091  Sample-Data.cpp                -1   \n",
       "1   330.795000  186.350000  Sample-Data.cpp                -1   \n",
       "2   349.114583  218.625000  Sample-Data.cpp                 3   \n",
       "3   265.439306  303.161850  Sample-Data.cpp                 5   \n",
       "4   495.346354  385.559896  Sample-Data.cpp                 7   \n",
       "5   397.500000  425.403846  Sample-Data.cpp                 8   \n",
       "6   285.365079  548.936508  Sample-Data.cpp                12   \n",
       "7   305.026316  491.842105  Sample-Data.cpp                13   \n",
       "8   560.123529  494.570588  Sample-Data.cpp                13   \n",
       "9   132.500000  523.500000  Sample-Data.cpp                -1   \n",
       "10  347.000000  531.828947  Sample-Data.cpp                14   \n",
       "11  418.227488  654.571090  Sample-Data.cpp                -1   \n",
       "12  399.656566  532.040404  Sample-Data.cpp                23   \n",
       "13  468.494737  612.068421  Sample-Data.cpp                25   \n",
       "14  278.208333  615.229167  Sample-Data.cpp                25   \n",
       "15  548.703704  602.685185  Sample-Data.cpp                25   \n",
       "16  522.174286  599.768571  Sample-Data.cpp                29   \n",
       "17  496.870079  663.161417  Sample-Data.cpp                31   \n",
       "18  631.518868  773.740566  Sample-Data.cpp                38   \n",
       "19  359.541667  336.354167  Sample-Data.cpp                20   \n",
       "20  815.148148  310.240741  Sample-Data.cpp                20   \n",
       "21  472.866071  375.839286  Sample-Data.cpp                21   \n",
       "22  459.798658  436.872483  Sample-Data.cpp                23   \n",
       "23  445.088496  425.716814  Sample-Data.cpp                -1   \n",
       "24  510.649573  503.042735  Sample-Data.cpp                -1   \n",
       "25  356.142857  514.238095  Sample-Data.cpp                29   \n",
       "26  687.955696  495.259494  Sample-Data.cpp                29   \n",
       "27  477.947368  410.263158  Sample-Data.cpp                27   \n",
       "28  713.304348  503.260870  Sample-Data.cpp                29   \n",
       "\n",
       "    source_file_col  left_pupil_diameter  right_pupil_diameter  duration  \\\n",
       "0                -1                  0.0                   0.0       669   \n",
       "1                -1                  0.0                   0.0      6284   \n",
       "2                20                  0.0                   0.0      2992   \n",
       "3                 6                  0.0                   0.0      5481   \n",
       "4                26                  0.0                   0.0     12143   \n",
       "5                22                  0.0                   0.0      3272   \n",
       "6                16                  0.0                   0.0      3950   \n",
       "7                 9                  0.0                   0.0      1180   \n",
       "8                34                  0.0                   0.0      5473   \n",
       "9                -1                  0.0                   0.0       156   \n",
       "10                8                  0.0                   0.0      2370   \n",
       "11               -1                  0.0                   0.0     13310   \n",
       "12               19                  0.0                   0.0      3124   \n",
       "13               28                  0.0                   0.0      5946   \n",
       "14               13                  0.0                   0.0      1519   \n",
       "15               29                  0.0                   0.0      1674   \n",
       "16               34                  0.0                   0.0     11025   \n",
       "17               17                  0.0                   0.0      8070   \n",
       "18               37                  0.0                   0.0      6667   \n",
       "19               13                  0.0                   0.0      1483   \n",
       "20               43                  0.0                   0.0      1692   \n",
       "21               17                  0.0                   0.0      3534   \n",
       "22               27                  0.0                   0.0      4698   \n",
       "23               -1                  0.0                   0.0      3583   \n",
       "24               -1                  0.0                   0.0      3711   \n",
       "25               17                  0.0                   0.0       619   \n",
       "26               34                  0.0                   0.0      4959   \n",
       "27               22                  0.0                   0.0       556   \n",
       "28               36                  0.0                   0.0       683   \n",
       "\n",
       "    fixation_event_time    system_time  syntax_node_offset  \\\n",
       "0    132471644153487228  1602690815340                 NaN   \n",
       "1    132471644161441789  1602690816135                 NaN   \n",
       "2    132471644225214029  1602690822513                 2.0   \n",
       "3    132471644256067835  1602690825598                 2.0   \n",
       "4    132471644311809218  1602690831172                 2.0   \n",
       "5    132471644434479464  1602690843439                 2.0   \n",
       "6    132471644467736372  1602690846773                 3.0   \n",
       "7    132471644507865206  1602690850786                 5.0   \n",
       "8    132471644520295000  1602690852029                30.0   \n",
       "9    132471644576616102  1602690857661                 NaN   \n",
       "10   132471644578803953  1602690857880                 4.0   \n",
       "11   132471644603746984  1602690860374                 NaN   \n",
       "12   132471644737793409  1602690873779                 2.0   \n",
       "13   132471644769963893  1602690876996                 1.0   \n",
       "14   132471644830358712  1602690883035                 5.0   \n",
       "15   132471644846169286  1602690884616                 2.0   \n",
       "16   132471644863538170  1602690886353                 4.0   \n",
       "17   132471644975045575  1602690897504                 1.0   \n",
       "18   132471645056687185  1602690905668                 2.0   \n",
       "19   132471645125552941  1602690912554                 9.0   \n",
       "20   132471645209322039  1602690920931                39.0   \n",
       "21   132471645227177602  1602690922717                 1.0   \n",
       "22   132471645263780061  1602690926377                 3.0   \n",
       "23   132471645311709101  1602690931170                 NaN   \n",
       "24   132471645348171762  1602690934816                 NaN   \n",
       "25   132471645386550857  1602690938654                 1.0   \n",
       "26   132471645393681470  1602690939367                 4.0   \n",
       "27   132471645510519855  1602690951051                 NaN   \n",
       "28   132471645563249370  1602690956324                 0.0   \n",
       "\n",
       "            syntax_node  syntax_node_id  \\\n",
       "0                   NaN             NaN   \n",
       "1                   NaN             NaN   \n",
       "2   property_identifier            13.0   \n",
       "3   property_identifier            15.0   \n",
       "4                   new            24.0   \n",
       "5                  null            34.0   \n",
       "6            identifier            41.0   \n",
       "7               comment            43.0   \n",
       "8               comment            43.0   \n",
       "9                   NaN             NaN   \n",
       "10  property_identifier            44.0   \n",
       "11                  NaN             NaN   \n",
       "12           identifier            71.0   \n",
       "13           identifier            80.0   \n",
       "14           identifier            75.0   \n",
       "15           identifier            80.0   \n",
       "16           identifier            97.0   \n",
       "17           identifier           103.0   \n",
       "18                 true           127.0   \n",
       "19              comment            61.0   \n",
       "20              comment            61.0   \n",
       "21  property_identifier         26472.0   \n",
       "22           identifier         26481.0   \n",
       "23                  NaN             NaN   \n",
       "24                  NaN             NaN   \n",
       "25           identifier         26501.0   \n",
       "26           identifier         26505.0   \n",
       "27                 None             NaN   \n",
       "28                    ]         28926.0   \n",
       "\n",
       "                                     syntax_node_text  \n",
       "0                                                 NaN  \n",
       "1                                                 NaN  \n",
       "2                                                Word  \n",
       "3                                              public  \n",
       "4                                                 new  \n",
       "5                                                null  \n",
       "6                                                Trie  \n",
       "7         /** Initialize your data structure here. */  \n",
       "8         /** Initialize your data structure here. */  \n",
       "9                                                 NaN  \n",
       "10                                            private  \n",
       "11                                                NaN  \n",
       "12                                               iter  \n",
       "13                                               word  \n",
       "14                                            foreach  \n",
       "15                                               word  \n",
       "16                                             cIndex  \n",
       "17                                               iter  \n",
       "18                                               true  \n",
       "19         /** Returns if the word is in the trie. */  \n",
       "20  /** Returns if the word is in the trie inserte...  \n",
       "21                                             Search  \n",
       "22                                               root  \n",
       "23                                                NaN  \n",
       "24                                                NaN  \n",
       "25                                               iter  \n",
       "26                                             cIndex  \n",
       "27                                               None  \n",
       "28                                                  ]  "
      ],
      "text/html": "<div>\n<style scoped>\n    .dataframe tbody tr th:only-of-type {\n        vertical-align: middle;\n    }\n\n    .dataframe tbody tr th {\n        vertical-align: top;\n    }\n\n    .dataframe thead th {\n        text-align: right;\n    }\n</style>\n<table border=\"1\" class=\"dataframe\">\n  <thead>\n    <tr style=\"text-align: right;\">\n      <th></th>\n      <th>x</th>\n      <th>y</th>\n      <th>target</th>\n      <th>source_file_line</th>\n      <th>source_file_col</th>\n      <th>left_pupil_diameter</th>\n      <th>right_pupil_diameter</th>\n      <th>duration</th>\n      <th>fixation_event_time</th>\n      <th>system_time</th>\n      <th>syntax_node_offset</th>\n      <th>syntax_node</th>\n      <th>syntax_node_id</th>\n      <th>syntax_node_text</th>\n    </tr>\n  </thead>\n  <tbody>\n    <tr>\n      <th>0</th>\n      <td>204.863636</td>\n      <td>481.409091</td>\n      <td>Sample-Data.cpp</td>\n      <td>-1</td>\n      <td>-1</td>\n      <td>0.0</td>\n      <td>0.0</td>\n      <td>669</td>\n      <td>132471644153487228</td>\n      <td>1602690815340</td>\n      <td>NaN</td>\n      <td>NaN</td>\n      <td>NaN</td>\n      <td>NaN</td>\n    </tr>\n    <tr>\n      <th>1</th>\n      <td>330.795000</td>\n      <td>186.350000</td>\n      <td>Sample-Data.cpp</td>\n      <td>-1</td>\n      <td>-1</td>\n      <td>0.0</td>\n      <td>0.0</td>\n      <td>6284</td>\n      <td>132471644161441789</td>\n      <td>1602690816135</td>\n      <td>NaN</td>\n      <td>NaN</td>\n      <td>NaN</td>\n      <td>NaN</td>\n    </tr>\n    <tr>\n      <th>2</th>\n      <td>349.114583</td>\n      <td>218.625000</td>\n      <td>Sample-Data.cpp</td>\n      <td>3</td>\n      <td>20</td>\n      <td>0.0</td>\n      <td>0.0</td>\n      <td>2992</td>\n      <td>132471644225214029</td>\n      <td>1602690822513</td>\n      <td>2.0</td>\n      <td>property_identifier</td>\n      <td>13.0</td>\n      <td>Word</td>\n    </tr>\n    <tr>\n      <th>3</th>\n      <td>265.439306</td>\n      <td>303.161850</td>\n      <td>Sample-Data.cpp</td>\n      <td>5</td>\n      <td>6</td>\n      <td>0.0</td>\n      <td>0.0</td>\n      <td>5481</td>\n      <td>132471644256067835</td>\n      <td>1602690825598</td>\n      <td>2.0</td>\n      <td>property_identifier</td>\n      <td>15.0</td>\n      <td>public</td>\n    </tr>\n    <tr>\n      <th>4</th>\n      <td>495.346354</td>\n      <td>385.559896</td>\n      <td>Sample-Data.cpp</td>\n      <td>7</td>\n      <td>26</td>\n      <td>0.0</td>\n      <td>0.0</td>\n      <td>12143</td>\n      <td>132471644311809218</td>\n      <td>1602690831172</td>\n      <td>2.0</td>\n      <td>new</td>\n      <td>24.0</td>\n      <td>new</td>\n    </tr>\n    <tr>\n      <th>5</th>\n      <td>397.500000</td>\n      <td>425.403846</td>\n      <td>Sample-Data.cpp</td>\n      <td>8</td>\n      <td>22</td>\n      <td>0.0</td>\n      <td>0.0</td>\n      <td>3272</td>\n      <td>132471644434479464</td>\n      <td>1602690843439</td>\n      <td>2.0</td>\n      <td>null</td>\n      <td>34.0</td>\n      <td>null</td>\n    </tr>\n    <tr>\n      <th>6</th>\n      <td>285.365079</td>\n      <td>548.936508</td>\n      <td>Sample-Data.cpp</td>\n      <td>12</td>\n      <td>16</td>\n      <td>0.0</td>\n      <td>0.0</td>\n      <td>3950</td>\n      <td>132471644467736372</td>\n      <td>1602690846773</td>\n      <td>3.0</td>\n      <td>identifier</td>\n      <td>41.0</td>\n      <td>Trie</td>\n    </tr>\n    <tr>\n      <th>7</th>\n      <td>305.026316</td>\n      <td>491.842105</td>\n      <td>Sample-Data.cpp</td>\n      <td>13</td>\n      <td>9</td>\n      <td>0.0</td>\n      <td>0.0</td>\n      <td>1180</td>\n      <td>132471644507865206</td>\n      <td>1602690850786</td>\n      <td>5.0</td>\n      <td>comment</td>\n      <td>43.0</td>\n      <td>/** Initialize your data structure here. */</td>\n    </tr>\n    <tr>\n      <th>8</th>\n      <td>560.123529</td>\n      <td>494.570588</td>\n      <td>Sample-Data.cpp</td>\n      <td>13</td>\n      <td>34</td>\n      <td>0.0</td>\n      <td>0.0</td>\n      <td>5473</td>\n      <td>132471644520295000</td>\n      <td>1602690852029</td>\n      <td>30.0</td>\n      <td>comment</td>\n      <td>43.0</td>\n      <td>/** Initialize your data structure here. */</td>\n    </tr>\n    <tr>\n      <th>9</th>\n      <td>132.500000</td>\n      <td>523.500000</td>\n      <td>Sample-Data.cpp</td>\n      <td>-1</td>\n      <td>-1</td>\n      <td>0.0</td>\n      <td>0.0</td>\n      <td>156</td>\n      <td>132471644576616102</td>\n      <td>1602690857661</td>\n      <td>NaN</td>\n      <td>NaN</td>\n      <td>NaN</td>\n      <td>NaN</td>\n    </tr>\n    <tr>\n      <th>10</th>\n      <td>347.000000</td>\n      <td>531.828947</td>\n      <td>Sample-Data.cpp</td>\n      <td>14</td>\n      <td>8</td>\n      <td>0.0</td>\n      <td>0.0</td>\n      <td>2370</td>\n      <td>132471644578803953</td>\n      <td>1602690857880</td>\n      <td>4.0</td>\n      <td>property_identifier</td>\n      <td>44.0</td>\n      <td>private</td>\n    </tr>\n    <tr>\n      <th>11</th>\n      <td>418.227488</td>\n      <td>654.571090</td>\n      <td>Sample-Data.cpp</td>\n      <td>-1</td>\n      <td>-1</td>\n      <td>0.0</td>\n      <td>0.0</td>\n      <td>13310</td>\n      <td>132471644603746984</td>\n      <td>1602690860374</td>\n      <td>NaN</td>\n      <td>NaN</td>\n      <td>NaN</td>\n      <td>NaN</td>\n    </tr>\n    <tr>\n      <th>12</th>\n      <td>399.656566</td>\n      <td>532.040404</td>\n      <td>Sample-Data.cpp</td>\n      <td>23</td>\n      <td>19</td>\n      <td>0.0</td>\n      <td>0.0</td>\n      <td>3124</td>\n      <td>132471644737793409</td>\n      <td>1602690873779</td>\n      <td>2.0</td>\n      <td>identifier</td>\n      <td>71.0</td>\n      <td>iter</td>\n    </tr>\n    <tr>\n      <th>13</th>\n      <td>468.494737</td>\n      <td>612.068421</td>\n      <td>Sample-Data.cpp</td>\n      <td>25</td>\n      <td>28</td>\n      <td>0.0</td>\n      <td>0.0</td>\n      <td>5946</td>\n      <td>132471644769963893</td>\n      <td>1602690876996</td>\n      <td>1.0</td>\n      <td>identifier</td>\n      <td>80.0</td>\n      <td>word</td>\n    </tr>\n    <tr>\n      <th>14</th>\n      <td>278.208333</td>\n      <td>615.229167</td>\n      <td>Sample-Data.cpp</td>\n      <td>25</td>\n      <td>13</td>\n      <td>0.0</td>\n      <td>0.0</td>\n      <td>1519</td>\n      <td>132471644830358712</td>\n      <td>1602690883035</td>\n      <td>5.0</td>\n      <td>identifier</td>\n      <td>75.0</td>\n      <td>foreach</td>\n    </tr>\n    <tr>\n      <th>15</th>\n      <td>548.703704</td>\n      <td>602.685185</td>\n      <td>Sample-Data.cpp</td>\n      <td>25</td>\n      <td>29</td>\n      <td>0.0</td>\n      <td>0.0</td>\n      <td>1674</td>\n      <td>132471644846169286</td>\n      <td>1602690884616</td>\n      <td>2.0</td>\n      <td>identifier</td>\n      <td>80.0</td>\n      <td>word</td>\n    </tr>\n    <tr>\n      <th>16</th>\n      <td>522.174286</td>\n      <td>599.768571</td>\n      <td>Sample-Data.cpp</td>\n      <td>29</td>\n      <td>34</td>\n      <td>0.0</td>\n      <td>0.0</td>\n      <td>11025</td>\n      <td>132471644863538170</td>\n      <td>1602690886353</td>\n      <td>4.0</td>\n      <td>identifier</td>\n      <td>97.0</td>\n      <td>cIndex</td>\n    </tr>\n    <tr>\n      <th>17</th>\n      <td>496.870079</td>\n      <td>663.161417</td>\n      <td>Sample-Data.cpp</td>\n      <td>31</td>\n      <td>17</td>\n      <td>0.0</td>\n      <td>0.0</td>\n      <td>8070</td>\n      <td>132471644975045575</td>\n      <td>1602690897504</td>\n      <td>1.0</td>\n      <td>identifier</td>\n      <td>103.0</td>\n      <td>iter</td>\n    </tr>\n    <tr>\n      <th>18</th>\n      <td>631.518868</td>\n      <td>773.740566</td>\n      <td>Sample-Data.cpp</td>\n      <td>38</td>\n      <td>37</td>\n      <td>0.0</td>\n      <td>0.0</td>\n      <td>6667</td>\n      <td>132471645056687185</td>\n      <td>1602690905668</td>\n      <td>2.0</td>\n      <td>true</td>\n      <td>127.0</td>\n      <td>true</td>\n    </tr>\n    <tr>\n      <th>19</th>\n      <td>359.541667</td>\n      <td>336.354167</td>\n      <td>Sample-Data.cpp</td>\n      <td>20</td>\n      <td>13</td>\n      <td>0.0</td>\n      <td>0.0</td>\n      <td>1483</td>\n      <td>132471645125552941</td>\n      <td>1602690912554</td>\n      <td>9.0</td>\n      <td>comment</td>\n      <td>61.0</td>\n      <td>/** Returns if the word is in the trie. */</td>\n    </tr>\n    <tr>\n      <th>20</th>\n      <td>815.148148</td>\n      <td>310.240741</td>\n      <td>Sample-Data.cpp</td>\n      <td>20</td>\n      <td>43</td>\n      <td>0.0</td>\n      <td>0.0</td>\n      <td>1692</td>\n      <td>132471645209322039</td>\n      <td>1602690920931</td>\n      <td>39.0</td>\n      <td>comment</td>\n      <td>61.0</td>\n      <td>/** Returns if the word is in the trie inserte...</td>\n    </tr>\n    <tr>\n      <th>21</th>\n      <td>472.866071</td>\n      <td>375.839286</td>\n      <td>Sample-Data.cpp</td>\n      <td>21</td>\n      <td>17</td>\n      <td>0.0</td>\n      <td>0.0</td>\n      <td>3534</td>\n      <td>132471645227177602</td>\n      <td>1602690922717</td>\n      <td>1.0</td>\n      <td>property_identifier</td>\n      <td>26472.0</td>\n      <td>Search</td>\n    </tr>\n    <tr>\n      <th>22</th>\n      <td>459.798658</td>\n      <td>436.872483</td>\n      <td>Sample-Data.cpp</td>\n      <td>23</td>\n      <td>27</td>\n      <td>0.0</td>\n      <td>0.0</td>\n      <td>4698</td>\n      <td>132471645263780061</td>\n      <td>1602690926377</td>\n      <td>3.0</td>\n      <td>identifier</td>\n      <td>26481.0</td>\n      <td>root</td>\n    </tr>\n    <tr>\n      <th>23</th>\n      <td>445.088496</td>\n      <td>425.716814</td>\n      <td>Sample-Data.cpp</td>\n      <td>-1</td>\n      <td>-1</td>\n      <td>0.0</td>\n      <td>0.0</td>\n      <td>3583</td>\n      <td>132471645311709101</td>\n      <td>1602690931170</td>\n      <td>NaN</td>\n      <td>NaN</td>\n      <td>NaN</td>\n      <td>NaN</td>\n    </tr>\n    <tr>\n      <th>24</th>\n      <td>510.649573</td>\n      <td>503.042735</td>\n      <td>Sample-Data.cpp</td>\n      <td>-1</td>\n      <td>-1</td>\n      <td>0.0</td>\n      <td>0.0</td>\n      <td>3711</td>\n      <td>132471645348171762</td>\n      <td>1602690934816</td>\n      <td>NaN</td>\n      <td>NaN</td>\n      <td>NaN</td>\n      <td>NaN</td>\n    </tr>\n    <tr>\n      <th>25</th>\n      <td>356.142857</td>\n      <td>514.238095</td>\n      <td>Sample-Data.cpp</td>\n      <td>29</td>\n      <td>17</td>\n      <td>0.0</td>\n      <td>0.0</td>\n      <td>619</td>\n      <td>132471645386550857</td>\n      <td>1602690938654</td>\n      <td>1.0</td>\n      <td>identifier</td>\n      <td>26501.0</td>\n      <td>iter</td>\n    </tr>\n    <tr>\n      <th>26</th>\n      <td>687.955696</td>\n      <td>495.259494</td>\n      <td>Sample-Data.cpp</td>\n      <td>29</td>\n      <td>34</td>\n      <td>0.0</td>\n      <td>0.0</td>\n      <td>4959</td>\n      <td>132471645393681470</td>\n      <td>1602690939367</td>\n      <td>4.0</td>\n      <td>identifier</td>\n      <td>26505.0</td>\n      <td>cIndex</td>\n    </tr>\n    <tr>\n      <th>27</th>\n      <td>477.947368</td>\n      <td>410.263158</td>\n      <td>Sample-Data.cpp</td>\n      <td>27</td>\n      <td>22</td>\n      <td>0.0</td>\n      <td>0.0</td>\n      <td>556</td>\n      <td>132471645510519855</td>\n      <td>1602690951051</td>\n      <td>NaN</td>\n      <td>None</td>\n      <td>NaN</td>\n      <td>None</td>\n    </tr>\n    <tr>\n      <th>28</th>\n      <td>713.304348</td>\n      <td>503.260870</td>\n      <td>Sample-Data.cpp</td>\n      <td>29</td>\n      <td>36</td>\n      <td>0.0</td>\n      <td>0.0</td>\n      <td>683</td>\n      <td>132471645563249370</td>\n      <td>1602690956324</td>\n      <td>0.0</td>\n      <td>]</td>\n      <td>28926.0</td>\n      <td>]</td>\n    </tr>\n  </tbody>\n</table>\n</div>"
     },
     "metadata": {},
     "execution_count": 23
    }
   ],
   "source": [
    "tracker = Tracker(source, fixations, changelog, \"js\", 500)\n",
    "annotated_fixations = tracker.get_fixations()\n",
    "\n",
    "annotated_fixations"
   ]
  },
  {
   "cell_type": "markdown",
   "metadata": {},
   "source": [
    "Gazel uses TreeSitter as a parsing backend and supports 20+ languages, as well as syntactically incorrect code (for tokenization during editing)"
   ]
  },
  {
   "cell_type": "markdown",
   "metadata": {},
   "source": [
    "## You can also now examine the various snapshots"
   ]
  },
  {
   "cell_type": "code",
   "execution_count": 24,
   "metadata": {
    "tags": []
   },
   "outputs": [
    {
     "output_type": "stream",
     "name": "stdout",
     "text": [
      "public class TrieNode\n{\n    public TrieNode[] Children;\n    public string Word;\n\n    public TrieNode()\n    {\n        this.Children = new TrieNode[30];\n        this.Word = null;\n    }\n}\n\npublic class Trie {\n    /** Initialize your data structure here. */\n    private TrieNode root;\n\n    public Trie() {\n        root = new TrieNode();\n    }\n\n    /** Returns if the word is in the trie inserted text!. */\n    public bool Search(string word) {\n\n        TrieNode iter = root;\n\n        foreach (char c in word)\n        {\n            int newName = c - 'a';\n\n            if (iter.Children[newName] != null)\n            {\n                iter = iter.Children[newName];\n            }\n            else {\n                return false;\n            }\n        }\n\n        return iter.Word != null ? true : false;\n    }\n\n    /** Inserts a word into the trie. */\n    public void Insert(string word) {\n        TrieNode iter = root;\n        foreach (char c in word)\n        {\n            int cIndex = c - 'a';\n\n            if (iter.Children[cIndex] == null)\n            {\n                iter.Children[cIndex] = new TrieNode();\n            }\n\n            iter = iter.Children[cIndex];\n        }\n\n        iter.Word = word;\n    }\n\n\n\n    /** Returns if there is any word in the trie that starts with the given prefix. */\n    public bool StartsWith(string prefix) {\n\n        TrieNode iter = root;\n\n        foreach (char c in prefix)\n        {\n            int cIndex = c - 'a';\n            if (iter.Children[cIndex] != null)\n            {\n                iter = iter.Children[cIndex];\n            }\n            else\n            {\n                return false;\n            }\n        }\n\n        return true;\n    }\n}\n\n/**\n * Your Trie object will be instantiated and called as such:\n * Trie obj = new Trie();\n * obj.Insert(word);\n * bool param_2 = obj.Search(word);\n * bool param_3 = obj.StartsWith(prefix);\n */\n\n"
     ]
    }
   ],
   "source": [
    "snapshot = tracker.snapshot(8)\n",
    "\n",
    "print(snapshot.source.text)"
   ]
  },
  {
   "cell_type": "markdown",
   "metadata": {},
   "source": [
    "## Examine the changes that were applied to the previous snapshot to create this one"
   ]
  },
  {
   "cell_type": "code",
   "execution_count": 25,
   "metadata": {},
   "outputs": [
    {
     "output_type": "stream",
     "name": "stdout",
     "text": [
      "Moved:\n[(31,38)]]\"(31,37) -> (31,38)\nMoved:\n[(31,39)];\"(31,38) -> (31,39)\nMoved:\n[(31,39)]]\"(31,38) -> (31,39)\nMoved:\n[(31,40)];\"(31,39) -> (31,40)\nMoved:\n[(31,40)]]\"(31,39) -> (31,40)\nMoved:\n[(31,41)];\"(31,40) -> (31,41)\nMoved:\n[(31,41)]]\"(31,40) -> (31,41)\nMoved:\n[(31,42)];\"(31,41) -> (31,42)\nMoved:\n[(31,42)]]\"(31,41) -> (31,42)\nMoved:\n[(31,43)];\"(31,42) -> (31,43)\nMoved:\n[(31,43)]]\"(31,42) -> (31,43)\nMoved:\n[(31,44)];\"(31,43) -> (31,44)\nMoved:\n[(31,44)]]\"(31,43) -> (31,44)\nMoved:\n[(31,45)];\"(31,44) -> (31,45)\n"
     ]
    }
   ],
   "source": [
    "pprint(snapshot.changes)"
   ]
  },
  {
   "cell_type": "code",
   "execution_count": 26,
   "metadata": {
    "scrolled": true
   },
   "outputs": [
    {
     "output_type": "stream",
     "name": "stdout",
     "text": [
      "[(31,37)]newName\"\n[(31,44)]]\"\n[(31,45)];\"\n[(32,12)]}\"\n[(33,12)]else\"\n[(33,17)]{\"\n[(34,16)]return\"\n[(34,23)]false\"\n[(34,28)];\"\n[(35,12)]}\"\n[(36,8)]}\"\n[(38,8)]return\"\n[(38,15)]iter\"\n[(38,19)].\"\n[(38,20)]Word\"\n[(38,25)]!=\"\n[(38,28)]null\"\n[(38,33)]?\"\n[(38,35)]true\"\n[(38,40)]:\"\n[(38,42)]false\"\n[(38,47)];\"\n[(39,4)]}\"\n[(41,4)]/** Inserts a word into the trie. */\"\n[(42,4)]public\"\n[(42,11)]void\"\n[(42,16)]Insert\"\n[(42,22)](\"\n[(42,23)]string\"\n[(42,30)]word\"\n[(42,34)])\"\n[(42,36)]{\"\n[(43,8)]TrieNode\"\n[(43,17)]iter\"\n[(43,22)]=\"\n[(43,24)]root\"\n[(43,28)];\"\n[(44,8)]foreach\"\n[(44,16)](\"\n[(44,17)]char\"\n[(44,22)]c\"\n[(44,24)]in\"\n[(44,27)]word\"\n[(44,31)])\"\n[(45,8)]{\"\n[(46,12)]int\"\n[(46,16)]cIndex\"\n[(46,23)]=\"\n[(46,25)]c\"\n[(46,27)]-\"\n[(46,29)]'\"\n[(46,31)]'\"\n[(46,32)];\"\n[(48,12)]if\"\n[(48,15)](\"\n[(48,16)]iter\"\n[(48,20)].\"\n[(48,21)]Children\"\n[(48,29)][\"\n[(48,30)]cIndex\"\n[(48,36)]]\"\n[(48,38)]==\"\n[(48,41)]null\"\n[(48,45)])\"\n[(49,12)]{\"\n[(50,16)]iter\"\n[(50,20)].\"\n[(50,21)]Children\"\n[(50,29)][\"\n[(50,30)]cIndex\"\n[(50,36)]]\"\n[(50,38)]=\"\n[(50,40)]new\"\n[(50,44)]TrieNode\"\n[(50,52)](\"\n[(50,53)])\"\n[(50,54)];\"\n[(51,12)]}\"\n[(53,12)]iter\"\n[(53,17)]=\"\n[(53,19)]iter\"\n[(53,23)].\"\n[(53,24)]Children\"\n[(53,32)][\"\n[(53,33)]cIndex\"\n[(53,39)]]\"\n[(53,40)];\"\n[(54,8)]}\"\n[(56,8)]iter\"\n[(56,12)].\"\n[(56,13)]Word\"\n[(56,18)]=\"\n[(56,20)]word\"\n[(56,24)];\"\n[(57,4)]}\"\n[(61,4)]/** Returns if there is any word in the trie that starts with the given prefix. */\"\n[(62,4)]public\"\n[(62,11)]bool\"\n[(62,16)]StartsWith\"\n[(62,26)](\"\n[(62,27)]string\"\n[(62,34)]prefix\"\n[(62,40)])\"\n[(62,42)]{\"\n[(64,8)]TrieNode\"\n[(64,17)]iter\"\n[(64,22)]=\"\n[(64,24)]root\"\n[(64,28)];\"\n[(66,8)]foreach\"\n[(66,16)](\"\n[(66,17)]char\"\n[(66,22)]c\"\n[(66,24)]in\"\n[(66,27)]prefix\"\n[(66,33)])\"\n[(67,8)]{\"\n[(68,12)]int\"\n[(68,16)]cIndex\"\n[(68,23)]=\"\n[(68,25)]c\"\n[(68,27)]-\"\n[(68,29)]'\"\n[(68,31)]'\"\n[(68,32)];\"\n[(69,12)]if\"\n[(69,15)](\"\n[(69,16)]iter\"\n[(69,20)].\"\n[(69,21)]Children\"\n[(69,29)][\"\n[(69,30)]cIndex\"\n[(69,36)]]\"\n[(69,38)]!=\"\n[(69,41)]null\"\n[(69,45)])\"\n[(70,12)]{\"\n[(71,16)]iter\"\n[(71,21)]=\"\n[(71,23)]iter\"\n[(71,27)].\"\n[(71,28)]Children\"\n[(71,36)][\"\n[(71,37)]cIndex\"\n[(71,43)]]\"\n[(71,44)];\"\n[(72,12)]}\"\n[(73,12)]else\"\n[(74,12)]{\"\n[(75,16)]return\"\n[(75,23)]false\"\n[(75,28)];\"\n[(76,12)]}\"\n[(77,8)]}\"\n[(79,8)]return\"\n[(79,15)]true\"\n[(79,19)];\"\n[(80,4)]}\"\n[(81,0)]}\"\n[(83,0)]/**\n * Your Trie object will be instantiated and called as such:\n * Trie obj = new Trie();\n * obj.Insert(word);\n * bool param_2 = obj.Search(word);\n * bool param_3 = obj.StartsWith(prefix);\n */\"\n"
     ]
    }
   ],
   "source": [
    "pprint(snapshot.tokens)"
   ]
  },
  {
   "cell_type": "markdown",
   "metadata": {},
   "source": [
    "## Get diff of two snapshots"
   ]
  },
  {
   "cell_type": "code",
   "execution_count": 27,
   "metadata": {},
   "outputs": [
    {
     "output_type": "stream",
     "name": "stdout",
     "text": [
      "['- /** Returns if the word is in the trie. */',\n '+ /** Returns if the word is in the trie . */',\n '?                                       +\\n']\n['- /** Returns if the word is in the trie . */',\n '+ /** Returns if the word is in the trie i. */',\n '?                                        +\\n']\n['- /** Returns if the word is in the trie i. */',\n '+ /** Returns if the word is in the trie in. */',\n '?                                         +\\n']\n['- /** Returns if the word is in the trie in. */',\n '+ /** Returns if the word is in the trie ins. */',\n '?                                          +\\n']\n['- /** Returns if the word is in the trie ins. */',\n '+ /** Returns if the word is in the trie inse. */',\n '?                                           +\\n']\n['- /** Returns if the word is in the trie inse. */',\n '+ /** Returns if the word is in the trie inser. */',\n '?                                            +\\n']\n['- /** Returns if the word is in the trie inser. */',\n '+ /** Returns if the word is in the trie insert. */',\n '?                                             +\\n']\n['- /** Returns if the word is in the trie insert. */',\n '+ /** Returns if the word is in the trie inserte. */',\n '?                                              +\\n']\n['- /** Returns if the word is in the trie inserte. */',\n '+ /** Returns if the word is in the trie inserted. */',\n '?                                               +\\n']\n['- /** Returns if the word is in the trie inserted. */',\n '+ /** Returns if the word is in the trie inserted . */',\n '?                                                +\\n']\n['- /** Returns if the word is in the trie inserted . */',\n '+ /** Returns if the word is in the trie inserted t. */',\n '?                                                 +\\n']\n['- /** Returns if the word is in the trie inserted t. */',\n '+ /** Returns if the word is in the trie inserted te. */',\n '?                                                  +\\n']\n['- /** Returns if the word is in the trie inserted te. */',\n '+ /** Returns if the word is in the trie inserted tex. */',\n '?                                                   +\\n']\n['- /** Returns if the word is in the trie inserted tex. */',\n '+ /** Returns if the word is in the trie inserted text. */',\n '?                                                    +\\n']\n['- /** Returns if the word is in the trie inserted text. */',\n '+ /** Returns if the word is in the trie inserted text!. */',\n '?                                                     +\\n']\n"
     ]
    }
   ],
   "source": [
    "diff = tracker.diff(0, 7)\n",
    "\n",
    "for change in diff.token_changes:\n",
    "    if change.type == \"edited\":\n",
    "        print(change)"
   ]
  },
  {
   "cell_type": "markdown",
   "metadata": {},
   "source": [
    "## Query tokens by their text"
   ]
  },
  {
   "cell_type": "code",
   "execution_count": 28,
   "metadata": {},
   "outputs": [],
   "source": [
    "comment_token = tracker.get_first_token_by_text(\"/** Returns if the word is in the trie inserted text. */\")"
   ]
  },
  {
   "cell_type": "markdown",
   "metadata": {},
   "source": [
    "## Track a token's history"
   ]
  },
  {
   "cell_type": "code",
   "execution_count": 29,
   "metadata": {},
   "outputs": [
    {
     "output_type": "stream",
     "name": "stdout",
     "text": [
      "Edited:\n[(20,4)]/** Returns if the word is in the trie. */\" -> [(20,4)]/** Returns if the word is in the trie . */\"\n\nEdited:\n[(20,4)]/** Returns if the word is in the trie . */\" -> [(20,4)]/** Returns if the word is in the trie i. */\"\n\nEdited:\n[(20,4)]/** Returns if the word is in the trie i. */\" -> [(20,4)]/** Returns if the word is in the trie in. */\"\n\nEdited:\n[(20,4)]/** Returns if the word is in the trie in. */\" -> [(20,4)]/** Returns if the word is in the trie ins. */\"\n\nEdited:\n[(20,4)]/** Returns if the word is in the trie ins. */\" -> [(20,4)]/** Returns if the word is in the trie inse. */\"\n\nEdited:\n[(20,4)]/** Returns if the word is in the trie inse. */\" -> [(20,4)]/** Returns if the word is in the trie inser. */\"\n\nEdited:\n[(20,4)]/** Returns if the word is in the trie inser. */\" -> [(20,4)]/** Returns if the word is in the trie insert. */\"\n\nEdited:\n[(20,4)]/** Returns if the word is in the trie insert. */\" -> [(20,4)]/** Returns if the word is in the trie inserte. */\"\n\nEdited:\n[(20,4)]/** Returns if the word is in the trie inserte. */\" -> [(20,4)]/** Returns if the word is in the trie inserted. */\"\n\nEdited:\n[(20,4)]/** Returns if the word is in the trie inserted. */\" -> [(20,4)]/** Returns if the word is in the trie inserted . */\"\n\nEdited:\n[(20,4)]/** Returns if the word is in the trie inserted . */\" -> [(20,4)]/** Returns if the word is in the trie inserted t. */\"\n\nEdited:\n[(20,4)]/** Returns if the word is in the trie inserted t. */\" -> [(20,4)]/** Returns if the word is in the trie inserted te. */\"\n\nEdited:\n[(20,4)]/** Returns if the word is in the trie inserted te. */\" -> [(20,4)]/** Returns if the word is in the trie inserted tex. */\"\n\nEdited:\n[(20,4)]/** Returns if the word is in the trie inserted tex. */\" -> [(20,4)]/** Returns if the word is in the trie inserted text. */\"\n\nEdited:\n[(20,4)]/** Returns if the word is in the trie inserted text. */\" -> [(20,4)]/** Returns if the word is in the trie inserted text!. */\"\n\n"
     ]
    }
   ],
   "source": [
    "\n",
    "\n",
    "token_change_history = tracker.get_token_history(comment_token.id)\n",
    "for token_change in token_change_history:\n",
    "    pprint(token_change)\n",
    "    print()"
   ]
  },
  {
   "cell_type": "markdown",
   "metadata": {},
   "source": [
    "## Get fixations for snapshots/ranges"
   ]
  },
  {
   "cell_type": "code",
   "execution_count": 30,
   "metadata": {},
   "outputs": [
    {
     "output_type": "execute_result",
     "data": {
      "text/plain": [
       "             x           y           target  source_file_line  \\\n",
       "20  815.148148  310.240741  Sample-Data.cpp                20   \n",
       "21  472.866071  375.839286  Sample-Data.cpp                21   \n",
       "22  459.798658  436.872483  Sample-Data.cpp                23   \n",
       "23  445.088496  425.716814  Sample-Data.cpp                -1   \n",
       "24  510.649573  503.042735  Sample-Data.cpp                -1   \n",
       "25  356.142857  514.238095  Sample-Data.cpp                29   \n",
       "26  687.955696  495.259494  Sample-Data.cpp                29   \n",
       "\n",
       "    source_file_col  left_pupil_diameter  right_pupil_diameter  duration  \\\n",
       "20               43                  0.0                   0.0      1692   \n",
       "21               17                  0.0                   0.0      3534   \n",
       "22               27                  0.0                   0.0      4698   \n",
       "23               -1                  0.0                   0.0      3583   \n",
       "24               -1                  0.0                   0.0      3711   \n",
       "25               17                  0.0                   0.0       619   \n",
       "26               34                  0.0                   0.0      4959   \n",
       "\n",
       "    fixation_event_time    system_time  syntax_node_offset  \\\n",
       "20   132471645209322039  1602690920931                39.0   \n",
       "21   132471645227177602  1602690922717                 1.0   \n",
       "22   132471645263780061  1602690926377                 3.0   \n",
       "23   132471645311709101  1602690931170                 NaN   \n",
       "24   132471645348171762  1602690934816                 NaN   \n",
       "25   132471645386550857  1602690938654                 1.0   \n",
       "26   132471645393681470  1602690939367                 4.0   \n",
       "\n",
       "            syntax_node  syntax_node_id  \\\n",
       "20              comment            61.0   \n",
       "21  property_identifier         26472.0   \n",
       "22           identifier         26481.0   \n",
       "23                  NaN             NaN   \n",
       "24                  NaN             NaN   \n",
       "25           identifier         26501.0   \n",
       "26           identifier         26505.0   \n",
       "\n",
       "                                     syntax_node_text  \n",
       "20  /** Returns if the word is in the trie inserte...  \n",
       "21                                             Search  \n",
       "22                                               root  \n",
       "23                                                NaN  \n",
       "24                                                NaN  \n",
       "25                                               iter  \n",
       "26                                             cIndex  "
      ],
      "text/html": "<div>\n<style scoped>\n    .dataframe tbody tr th:only-of-type {\n        vertical-align: middle;\n    }\n\n    .dataframe tbody tr th {\n        vertical-align: top;\n    }\n\n    .dataframe thead th {\n        text-align: right;\n    }\n</style>\n<table border=\"1\" class=\"dataframe\">\n  <thead>\n    <tr style=\"text-align: right;\">\n      <th></th>\n      <th>x</th>\n      <th>y</th>\n      <th>target</th>\n      <th>source_file_line</th>\n      <th>source_file_col</th>\n      <th>left_pupil_diameter</th>\n      <th>right_pupil_diameter</th>\n      <th>duration</th>\n      <th>fixation_event_time</th>\n      <th>system_time</th>\n      <th>syntax_node_offset</th>\n      <th>syntax_node</th>\n      <th>syntax_node_id</th>\n      <th>syntax_node_text</th>\n    </tr>\n  </thead>\n  <tbody>\n    <tr>\n      <th>20</th>\n      <td>815.148148</td>\n      <td>310.240741</td>\n      <td>Sample-Data.cpp</td>\n      <td>20</td>\n      <td>43</td>\n      <td>0.0</td>\n      <td>0.0</td>\n      <td>1692</td>\n      <td>132471645209322039</td>\n      <td>1602690920931</td>\n      <td>39.0</td>\n      <td>comment</td>\n      <td>61.0</td>\n      <td>/** Returns if the word is in the trie inserte...</td>\n    </tr>\n    <tr>\n      <th>21</th>\n      <td>472.866071</td>\n      <td>375.839286</td>\n      <td>Sample-Data.cpp</td>\n      <td>21</td>\n      <td>17</td>\n      <td>0.0</td>\n      <td>0.0</td>\n      <td>3534</td>\n      <td>132471645227177602</td>\n      <td>1602690922717</td>\n      <td>1.0</td>\n      <td>property_identifier</td>\n      <td>26472.0</td>\n      <td>Search</td>\n    </tr>\n    <tr>\n      <th>22</th>\n      <td>459.798658</td>\n      <td>436.872483</td>\n      <td>Sample-Data.cpp</td>\n      <td>23</td>\n      <td>27</td>\n      <td>0.0</td>\n      <td>0.0</td>\n      <td>4698</td>\n      <td>132471645263780061</td>\n      <td>1602690926377</td>\n      <td>3.0</td>\n      <td>identifier</td>\n      <td>26481.0</td>\n      <td>root</td>\n    </tr>\n    <tr>\n      <th>23</th>\n      <td>445.088496</td>\n      <td>425.716814</td>\n      <td>Sample-Data.cpp</td>\n      <td>-1</td>\n      <td>-1</td>\n      <td>0.0</td>\n      <td>0.0</td>\n      <td>3583</td>\n      <td>132471645311709101</td>\n      <td>1602690931170</td>\n      <td>NaN</td>\n      <td>NaN</td>\n      <td>NaN</td>\n      <td>NaN</td>\n    </tr>\n    <tr>\n      <th>24</th>\n      <td>510.649573</td>\n      <td>503.042735</td>\n      <td>Sample-Data.cpp</td>\n      <td>-1</td>\n      <td>-1</td>\n      <td>0.0</td>\n      <td>0.0</td>\n      <td>3711</td>\n      <td>132471645348171762</td>\n      <td>1602690934816</td>\n      <td>NaN</td>\n      <td>NaN</td>\n      <td>NaN</td>\n      <td>NaN</td>\n    </tr>\n    <tr>\n      <th>25</th>\n      <td>356.142857</td>\n      <td>514.238095</td>\n      <td>Sample-Data.cpp</td>\n      <td>29</td>\n      <td>17</td>\n      <td>0.0</td>\n      <td>0.0</td>\n      <td>619</td>\n      <td>132471645386550857</td>\n      <td>1602690938654</td>\n      <td>1.0</td>\n      <td>identifier</td>\n      <td>26501.0</td>\n      <td>iter</td>\n    </tr>\n    <tr>\n      <th>26</th>\n      <td>687.955696</td>\n      <td>495.259494</td>\n      <td>Sample-Data.cpp</td>\n      <td>29</td>\n      <td>34</td>\n      <td>0.0</td>\n      <td>0.0</td>\n      <td>4959</td>\n      <td>132471645393681470</td>\n      <td>1602690939367</td>\n      <td>4.0</td>\n      <td>identifier</td>\n      <td>26505.0</td>\n      <td>cIndex</td>\n    </tr>\n  </tbody>\n</table>\n</div>"
     },
     "metadata": {},
     "execution_count": 30
    }
   ],
   "source": [
    "fixations = tracker.get_fixations_for_snapshot(2)\n",
    "\n",
    "fixations.head(10)"
   ]
  },
  {
   "cell_type": "markdown",
   "metadata": {},
   "source": [
    "### Please check the detailed documentation at:\n",
    "### https://github.com/devjeetr/gazel"
   ]
  },
  {
   "cell_type": "code",
   "execution_count": null,
   "metadata": {},
   "outputs": [],
   "source": []
  }
 ],
 "metadata": {
  "kernelspec": {
   "name": "python394jvsc74a57bd0fbe605173efebc759a6b3c462ccc87376853d330bf7fcf6fb3ac929fe706d290",
   "display_name": "Python 3.9.4 64-bit ('research': conda)"
  },
  "language_info": {
   "codemirror_mode": {
    "name": "ipython",
    "version": 3
   },
   "file_extension": ".py",
   "mimetype": "text/x-python",
   "name": "python",
   "nbconvert_exporter": "python",
   "pygments_lexer": "ipython3",
   "version": "3.9.4"
  }
 },
 "nbformat": 4,
 "nbformat_minor": 2
}