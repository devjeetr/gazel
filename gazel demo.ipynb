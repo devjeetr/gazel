{
 "cells": [
  {
   "cell_type": "markdown",
   "metadata": {},
   "source": [
    "# gazel: Supporting Source Code Edits in Eye-Tracking Studies\n",
    "\n"
   ]
  },
  {
   "cell_type": "code",
   "execution_count": 1,
   "metadata": {},
   "outputs": [],
   "source": [
    "from gazel import Tracker, fixation_filters, pprint\n",
    "from gazel.fixation_filters.ivt import IVTConfig\n",
    "import json\n",
    "import os"
   ]
  },
  {
   "cell_type": "markdown",
   "metadata": {},
   "source": [
    "## Step 1: Get your files ready \n",
    "\n",
    "To use `gazel`, you need:\n",
    "* the `itrace-core` xml file \n",
    "* the `itrace-atom` xml file \n",
    "* the `itrace-atom` changelog file\n",
    "* source files used in the experiment"
   ]
  },
  {
   "cell_type": "code",
   "execution_count": 2,
   "metadata": {},
   "outputs": [],
   "source": [
    "def load_file(filepath):\n",
    "    with open(filepath, newline=\"\") as f:\n",
    "        return f.read()\n",
    "\n",
    "base = \"./notebooks/demo-data/\"\n",
    "core_file = os.path.join(base, \"core.xml\")\n",
    "plugin_file = os.path.join(base, \"plugin.xml\")\n",
    "change_log_file = os.path.join(base, \"changelog.json\")\n",
    "source_file = os.path.join(base, \"Sample-Data.js\")\n",
    "\n",
    "changelog = json.loads(load_file(change_log_file))[\"log\"][:-1]\n",
    "source = load_file(source_file)"
   ]
  },
  {
   "cell_type": "markdown",
   "metadata": {},
   "source": [
    "## Step 2: Process your raw gazes into fixations"
   ]
  },
  {
   "cell_type": "code",
   "execution_count": 3,
   "metadata": {
    "tags": []
   },
   "outputs": [
    {
     "output_type": "stream",
     "name": "stderr",
     "text": [
      "/home/devjeetroy/miniconda3/envs/research/lib/python3.9/site-packages/pandas/core/frame.py:1549: FutureWarning: Using short name for 'orient' is deprecated. Only the options: ('dict', list, 'series', 'split', 'records', 'index') will be used in a future version. Use one of the above to silence this warning.\n  warnings.warn(\n"
     ]
    },
    {
     "output_type": "execute_result",
     "data": {
      "text/plain": [
       "             x           y          target  source_file_line  source_file_col  \\\n",
       "0  1521.862069   50.724138  Sample-Data.js                 3               85   \n",
       "1  1520.100000   70.300000  Sample-Data.js                 4               85   \n",
       "2   642.700000  620.150000  Sample-Data.js                17               32   \n",
       "3   366.272727  600.045455  Sample-Data.js                17               16   \n",
       "4   329.027778   10.333333  Sample-Data.js                 3               14   \n",
       "\n",
       "   left_pupil_diameter  right_pupil_diameter  duration  fixation_event_time  \\\n",
       "0            19.977387             14.884925       215   132666022032951456   \n",
       "1            19.762878             14.883633        95   132666022036050391   \n",
       "2            18.721448             19.434629       158   132666022037801087   \n",
       "3            20.111774             19.377404       171   132666022039695283   \n",
       "4            18.435271             19.015273       171   132666022042560473   \n",
       "\n",
       "     system_time  \n",
       "0  1622128603290  \n",
       "1  1622128603600  \n",
       "2  1622128603775  \n",
       "3  1622128603964  \n",
       "4  1622128604251  "
      ],
      "text/html": "<div>\n<style scoped>\n    .dataframe tbody tr th:only-of-type {\n        vertical-align: middle;\n    }\n\n    .dataframe tbody tr th {\n        vertical-align: top;\n    }\n\n    .dataframe thead th {\n        text-align: right;\n    }\n</style>\n<table border=\"1\" class=\"dataframe\">\n  <thead>\n    <tr style=\"text-align: right;\">\n      <th></th>\n      <th>x</th>\n      <th>y</th>\n      <th>target</th>\n      <th>source_file_line</th>\n      <th>source_file_col</th>\n      <th>left_pupil_diameter</th>\n      <th>right_pupil_diameter</th>\n      <th>duration</th>\n      <th>fixation_event_time</th>\n      <th>system_time</th>\n    </tr>\n  </thead>\n  <tbody>\n    <tr>\n      <th>0</th>\n      <td>1521.862069</td>\n      <td>50.724138</td>\n      <td>Sample-Data.js</td>\n      <td>3</td>\n      <td>85</td>\n      <td>19.977387</td>\n      <td>14.884925</td>\n      <td>215</td>\n      <td>132666022032951456</td>\n      <td>1622128603290</td>\n    </tr>\n    <tr>\n      <th>1</th>\n      <td>1520.100000</td>\n      <td>70.300000</td>\n      <td>Sample-Data.js</td>\n      <td>4</td>\n      <td>85</td>\n      <td>19.762878</td>\n      <td>14.883633</td>\n      <td>95</td>\n      <td>132666022036050391</td>\n      <td>1622128603600</td>\n    </tr>\n    <tr>\n      <th>2</th>\n      <td>642.700000</td>\n      <td>620.150000</td>\n      <td>Sample-Data.js</td>\n      <td>17</td>\n      <td>32</td>\n      <td>18.721448</td>\n      <td>19.434629</td>\n      <td>158</td>\n      <td>132666022037801087</td>\n      <td>1622128603775</td>\n    </tr>\n    <tr>\n      <th>3</th>\n      <td>366.272727</td>\n      <td>600.045455</td>\n      <td>Sample-Data.js</td>\n      <td>17</td>\n      <td>16</td>\n      <td>20.111774</td>\n      <td>19.377404</td>\n      <td>171</td>\n      <td>132666022039695283</td>\n      <td>1622128603964</td>\n    </tr>\n    <tr>\n      <th>4</th>\n      <td>329.027778</td>\n      <td>10.333333</td>\n      <td>Sample-Data.js</td>\n      <td>3</td>\n      <td>14</td>\n      <td>18.435271</td>\n      <td>19.015273</td>\n      <td>171</td>\n      <td>132666022042560473</td>\n      <td>1622128604251</td>\n    </tr>\n  </tbody>\n</table>\n</div>"
     },
     "metadata": {},
     "execution_count": 3
    }
   ],
   "source": [
    "\n",
    "fixations = fixation_filters.core.ivt(core_file, plugin_file, changelog, IVTConfig(50, 80))\n",
    "\n",
    "fixations.head()"
   ]
  },
  {
   "cell_type": "markdown",
   "metadata": {},
   "source": [
    "## Step 3: Now you can use `Tracker` to examine your fixations with syntactic information"
   ]
  },
  {
   "cell_type": "code",
   "execution_count": 4,
   "metadata": {
    "scrolled": false
   },
   "outputs": [
    {
     "output_type": "execute_result",
     "data": {
      "text/plain": [
       "              x           y          target  source_file_line  \\\n",
       "0   1521.862069   50.724138  Sample-Data.js                 3   \n",
       "1   1520.100000   70.300000  Sample-Data.js                 4   \n",
       "2    642.700000  620.150000  Sample-Data.js                17   \n",
       "3    366.272727  600.045455  Sample-Data.js                17   \n",
       "4    329.027778   10.333333  Sample-Data.js                 3   \n",
       "..          ...         ...             ...               ...   \n",
       "71   186.823529  608.941176  Sample-Data.js                17   \n",
       "72   175.857143  611.428571  Sample-Data.js                17   \n",
       "73   277.454545  663.818182  Sample-Data.js                18   \n",
       "74   228.529412  673.235294  Sample-Data.js                19   \n",
       "75   286.250000  666.750000  Sample-Data.js                19   \n",
       "\n",
       "    source_file_col  left_pupil_diameter  right_pupil_diameter  duration  \\\n",
       "0                85            19.977387             14.884925       215   \n",
       "1                85            19.762878             14.883633        95   \n",
       "2                32            18.721448             19.434629       158   \n",
       "3                16            20.111774             19.377404       171   \n",
       "4                14            18.435271             19.015273       171   \n",
       "..              ...                  ...                   ...       ...   \n",
       "71                6            25.279813             25.138136       253   \n",
       "72                4            25.677554             25.026201       111   \n",
       "73               11            25.037354             23.524068       100   \n",
       "74                8            25.206841             23.957511       279   \n",
       "75               12            25.535702             24.245687       105   \n",
       "\n",
       "    fixation_event_time    system_time  syntax_node_offset  \\\n",
       "0    132666022032951456  1622128603290                 NaN   \n",
       "1    132666022036050391  1622128603600                 NaN   \n",
       "2    132666022037801087  1622128603775                15.0   \n",
       "3    132666022039695283  1622128603964                 0.0   \n",
       "4    132666022042560473  1622128604251                10.0   \n",
       "..                  ...            ...                 ...   \n",
       "71   132666022290982766  1622128629093                 NaN   \n",
       "72   132666022294316153  1622128629426                 NaN   \n",
       "73   132666022301070429  1622128630101                 3.0   \n",
       "74   132666022302535881  1622128630248                 NaN   \n",
       "75   132666022305482556  1622128630543                 NaN   \n",
       "\n",
       "            syntax_node  syntax_node_id     syntax_node_text  \n",
       "0                   NaN             NaN                  NaN  \n",
       "1                   NaN             NaN                  NaN  \n",
       "2   property_identifier           106.0  removeEventListener  \n",
       "3                     .           105.0                    .  \n",
       "4   property_identifier            21.0          constructor  \n",
       "..                  ...             ...                  ...  \n",
       "71                 None             NaN                 None  \n",
       "72                 None             NaN                 None  \n",
       "73           identifier         21955.0             document  \n",
       "74                  NaN             NaN                  NaN  \n",
       "75                  NaN             NaN                  NaN  \n",
       "\n",
       "[76 rows x 14 columns]"
      ],
      "text/html": "<div>\n<style scoped>\n    .dataframe tbody tr th:only-of-type {\n        vertical-align: middle;\n    }\n\n    .dataframe tbody tr th {\n        vertical-align: top;\n    }\n\n    .dataframe thead th {\n        text-align: right;\n    }\n</style>\n<table border=\"1\" class=\"dataframe\">\n  <thead>\n    <tr style=\"text-align: right;\">\n      <th></th>\n      <th>x</th>\n      <th>y</th>\n      <th>target</th>\n      <th>source_file_line</th>\n      <th>source_file_col</th>\n      <th>left_pupil_diameter</th>\n      <th>right_pupil_diameter</th>\n      <th>duration</th>\n      <th>fixation_event_time</th>\n      <th>system_time</th>\n      <th>syntax_node_offset</th>\n      <th>syntax_node</th>\n      <th>syntax_node_id</th>\n      <th>syntax_node_text</th>\n    </tr>\n  </thead>\n  <tbody>\n    <tr>\n      <th>0</th>\n      <td>1521.862069</td>\n      <td>50.724138</td>\n      <td>Sample-Data.js</td>\n      <td>3</td>\n      <td>85</td>\n      <td>19.977387</td>\n      <td>14.884925</td>\n      <td>215</td>\n      <td>132666022032951456</td>\n      <td>1622128603290</td>\n      <td>NaN</td>\n      <td>NaN</td>\n      <td>NaN</td>\n      <td>NaN</td>\n    </tr>\n    <tr>\n      <th>1</th>\n      <td>1520.100000</td>\n      <td>70.300000</td>\n      <td>Sample-Data.js</td>\n      <td>4</td>\n      <td>85</td>\n      <td>19.762878</td>\n      <td>14.883633</td>\n      <td>95</td>\n      <td>132666022036050391</td>\n      <td>1622128603600</td>\n      <td>NaN</td>\n      <td>NaN</td>\n      <td>NaN</td>\n      <td>NaN</td>\n    </tr>\n    <tr>\n      <th>2</th>\n      <td>642.700000</td>\n      <td>620.150000</td>\n      <td>Sample-Data.js</td>\n      <td>17</td>\n      <td>32</td>\n      <td>18.721448</td>\n      <td>19.434629</td>\n      <td>158</td>\n      <td>132666022037801087</td>\n      <td>1622128603775</td>\n      <td>15.0</td>\n      <td>property_identifier</td>\n      <td>106.0</td>\n      <td>removeEventListener</td>\n    </tr>\n    <tr>\n      <th>3</th>\n      <td>366.272727</td>\n      <td>600.045455</td>\n      <td>Sample-Data.js</td>\n      <td>17</td>\n      <td>16</td>\n      <td>20.111774</td>\n      <td>19.377404</td>\n      <td>171</td>\n      <td>132666022039695283</td>\n      <td>1622128603964</td>\n      <td>0.0</td>\n      <td>.</td>\n      <td>105.0</td>\n      <td>.</td>\n    </tr>\n    <tr>\n      <th>4</th>\n      <td>329.027778</td>\n      <td>10.333333</td>\n      <td>Sample-Data.js</td>\n      <td>3</td>\n      <td>14</td>\n      <td>18.435271</td>\n      <td>19.015273</td>\n      <td>171</td>\n      <td>132666022042560473</td>\n      <td>1622128604251</td>\n      <td>10.0</td>\n      <td>property_identifier</td>\n      <td>21.0</td>\n      <td>constructor</td>\n    </tr>\n    <tr>\n      <th>...</th>\n      <td>...</td>\n      <td>...</td>\n      <td>...</td>\n      <td>...</td>\n      <td>...</td>\n      <td>...</td>\n      <td>...</td>\n      <td>...</td>\n      <td>...</td>\n      <td>...</td>\n      <td>...</td>\n      <td>...</td>\n      <td>...</td>\n      <td>...</td>\n    </tr>\n    <tr>\n      <th>71</th>\n      <td>186.823529</td>\n      <td>608.941176</td>\n      <td>Sample-Data.js</td>\n      <td>17</td>\n      <td>6</td>\n      <td>25.279813</td>\n      <td>25.138136</td>\n      <td>253</td>\n      <td>132666022290982766</td>\n      <td>1622128629093</td>\n      <td>NaN</td>\n      <td>None</td>\n      <td>NaN</td>\n      <td>None</td>\n    </tr>\n    <tr>\n      <th>72</th>\n      <td>175.857143</td>\n      <td>611.428571</td>\n      <td>Sample-Data.js</td>\n      <td>17</td>\n      <td>4</td>\n      <td>25.677554</td>\n      <td>25.026201</td>\n      <td>111</td>\n      <td>132666022294316153</td>\n      <td>1622128629426</td>\n      <td>NaN</td>\n      <td>None</td>\n      <td>NaN</td>\n      <td>None</td>\n    </tr>\n    <tr>\n      <th>73</th>\n      <td>277.454545</td>\n      <td>663.818182</td>\n      <td>Sample-Data.js</td>\n      <td>18</td>\n      <td>11</td>\n      <td>25.037354</td>\n      <td>23.524068</td>\n      <td>100</td>\n      <td>132666022301070429</td>\n      <td>1622128630101</td>\n      <td>3.0</td>\n      <td>identifier</td>\n      <td>21955.0</td>\n      <td>document</td>\n    </tr>\n    <tr>\n      <th>74</th>\n      <td>228.529412</td>\n      <td>673.235294</td>\n      <td>Sample-Data.js</td>\n      <td>19</td>\n      <td>8</td>\n      <td>25.206841</td>\n      <td>23.957511</td>\n      <td>279</td>\n      <td>132666022302535881</td>\n      <td>1622128630248</td>\n      <td>NaN</td>\n      <td>NaN</td>\n      <td>NaN</td>\n      <td>NaN</td>\n    </tr>\n    <tr>\n      <th>75</th>\n      <td>286.250000</td>\n      <td>666.750000</td>\n      <td>Sample-Data.js</td>\n      <td>19</td>\n      <td>12</td>\n      <td>25.535702</td>\n      <td>24.245687</td>\n      <td>105</td>\n      <td>132666022305482556</td>\n      <td>1622128630543</td>\n      <td>NaN</td>\n      <td>NaN</td>\n      <td>NaN</td>\n      <td>NaN</td>\n    </tr>\n  </tbody>\n</table>\n<p>76 rows × 14 columns</p>\n</div>"
     },
     "metadata": {},
     "execution_count": 4
    }
   ],
   "source": [
    "tracker = Tracker(source, fixations, changelog, \"js\", 500)\n",
    "annotated_fixations = tracker.get_fixations()\n",
    "\n",
    "annotated_fixations"
   ]
  },
  {
   "cell_type": "markdown",
   "metadata": {},
   "source": [
    "Gazel uses TreeSitter as a parsing backend and supports 20+ languages, as well as syntactically incorrect code (for tokenization during editing)"
   ]
  },
  {
   "cell_type": "markdown",
   "metadata": {},
   "source": [
    "## You can also now examine the various snapshots"
   ]
  },
  {
   "cell_type": "code",
   "execution_count": 5,
   "metadata": {
    "tags": []
   },
   "outputs": [
    {
     "output_type": "stream",
     "name": "stdout",
     "text": [
      "import React, { Component, useState, useEffect, useCallback } from \"react\";\n\nclass Draggable extends Component {\n    constructor(props) {\n        super(props);\n\n        this.state = {\n            dragEnabled: false,\n            dragStart: null\n        };\n\n        this.onMouseDown = this.onMouseDown.bind(this);\n        this.onMouseUp = this.onMouseUp.bind(this);\n        this.onMouseMove = this.onMouseMove.bind(this);\n    }\n    onMouseUp(e) {\n      this.setState({dragEnabled: False})';'\n        document.removeEventListener(\"mousemove\", this.onMouseMove, true);\n        document.removeEventListener(\"mouseup\", this.onMouseUp, true);\n    }\n    componentWillUnmount() {\n        document.removeEventListener(\"mousemove\", this.onMouseMove, true);\n        document.removeEventListener(\"mouseup\", this.onMouseUp, true);\n    }\n    onMouseMove(e) {\n        const dx = e.clientX - this.state.dragStart.x;\n        const dy = e.clientY - this.state.dragStart.y;\n\n        if (this.props.onDrag) {\n            this.props.onDrag(dx, dy);\n        }\n        this.setState({ dragStart: { x: e.clientX, y: e.clientY } });\n        e.preventDefault();\n    }\n    onMouseDown(e) {\n        this.setState({\n            dragEnabled: true,\n            dragStart: { x: e.clientX, y: e.clientY }\n        });\n\n        document.addEventListener(\"mousemove\", this.onMouseMove, true);\n        document.addEventListener(\"mouseup\", this.onMouseUp, true);\n        e.preventDefault();\n    }\n    render() {\n        const { Elem, onDrag, ...rest } = this.props;\n        return <Elem onMouseDown={this.onMouseDown} {...rest} />;\n    }\n\n}\n\nexport default Draggable;\n\n"
     ]
    }
   ],
   "source": [
    "snapshot = tracker.snapshot(8)\n",
    "\n",
    "print(snapshot.source.text)"
   ]
  },
  {
   "cell_type": "markdown",
   "metadata": {},
   "source": [
    "## Examine the changes that were applied to the previous snapshot to create this one"
   ]
  },
  {
   "cell_type": "code",
   "execution_count": 6,
   "metadata": {},
   "outputs": [
    {
     "output_type": "stream",
     "name": "stdout",
     "text": [
      "Inserted [(16,41)]'\" @ (16,41)\nInserted [(16,42)]'\" @ (16,42)\nMoved:\n[(16,43)]'\"(16,42) -> (16,43)\n"
     ]
    }
   ],
   "source": [
    "pprint(snapshot.changes)"
   ]
  },
  {
   "cell_type": "code",
   "execution_count": 7,
   "metadata": {
    "scrolled": true
   },
   "outputs": [
    {
     "output_type": "stream",
     "name": "stdout",
     "text": [
      "[(16,43)]'\"\n[(17,8)]document\"\n[(17,16)].\"\n[(17,17)]removeEventListener\"\n[(17,36)](\"\n[(17,37)]\"\"\n[(17,47)]\"\"\n[(17,48)],\"\n[(17,50)]this\"\n[(17,54)].\"\n[(17,55)]onMouseMove\"\n[(17,66)],\"\n[(17,68)]true\"\n[(17,72)])\"\n[(17,73)];\"\n[(18,8)]document\"\n[(18,16)].\"\n[(18,17)]removeEventListener\"\n[(18,36)](\"\n[(18,37)]\"\"\n[(18,45)]\"\"\n[(18,46)],\"\n[(18,48)]this\"\n[(18,52)].\"\n[(18,53)]onMouseUp\"\n[(18,62)],\"\n[(18,64)]true\"\n[(18,68)])\"\n[(18,69)];\"\n[(19,4)]}\"\n[(20,4)]componentWillUnmount\"\n[(20,24)](\"\n[(20,25)])\"\n[(20,27)]{\"\n[(21,8)]document\"\n[(21,16)].\"\n[(21,17)]removeEventListener\"\n[(21,36)](\"\n[(21,37)]\"\"\n[(21,47)]\"\"\n[(21,48)],\"\n[(21,50)]this\"\n[(21,54)].\"\n[(21,55)]onMouseMove\"\n[(21,66)],\"\n[(21,68)]true\"\n[(21,72)])\"\n[(21,73)];\"\n[(22,8)]document\"\n[(22,16)].\"\n[(22,17)]removeEventListener\"\n[(22,36)](\"\n[(22,37)]\"\"\n[(22,45)]\"\"\n[(22,46)],\"\n[(22,48)]this\"\n[(22,52)].\"\n[(22,53)]onMouseUp\"\n[(22,62)],\"\n[(22,64)]true\"\n[(22,68)])\"\n[(22,69)];\"\n[(23,4)]}\"\n[(24,4)]onMouseMove\"\n[(24,15)](\"\n[(24,16)]e\"\n[(24,17)])\"\n[(24,19)]{\"\n[(25,8)]const\"\n[(25,14)]dx\"\n[(25,17)]=\"\n[(25,19)]e\"\n[(25,20)].\"\n[(25,21)]clientX\"\n[(25,29)]-\"\n[(25,31)]this\"\n[(25,35)].\"\n[(25,36)]state\"\n[(25,41)].\"\n[(25,42)]dragStart\"\n[(25,51)].\"\n[(25,52)]x\"\n[(25,53)];\"\n[(26,8)]const\"\n[(26,14)]dy\"\n[(26,17)]=\"\n[(26,19)]e\"\n[(26,20)].\"\n[(26,21)]clientY\"\n[(26,29)]-\"\n[(26,31)]this\"\n[(26,35)].\"\n[(26,36)]state\"\n[(26,41)].\"\n[(26,42)]dragStart\"\n[(26,51)].\"\n[(26,52)]y\"\n[(26,53)];\"\n[(28,8)]if\"\n[(28,11)](\"\n[(28,12)]this\"\n[(28,16)].\"\n[(28,17)]props\"\n[(28,22)].\"\n[(28,23)]onDrag\"\n[(28,29)])\"\n[(28,31)]{\"\n[(29,12)]this\"\n[(29,16)].\"\n[(29,17)]props\"\n[(29,22)].\"\n[(29,23)]onDrag\"\n[(29,29)](\"\n[(29,30)]dx\"\n[(29,32)],\"\n[(29,34)]dy\"\n[(29,36)])\"\n[(29,37)];\"\n[(30,8)]}\"\n[(31,8)]this\"\n[(31,12)].\"\n[(31,13)]setState\"\n[(31,21)](\"\n[(31,22)]{\"\n[(31,24)]dragStart\"\n[(31,33)]:\"\n[(31,35)]{\"\n[(31,37)]x\"\n[(31,38)]:\"\n[(31,40)]e\"\n[(31,41)].\"\n[(31,42)]clientX\"\n[(31,49)],\"\n[(31,51)]y\"\n[(31,52)]:\"\n[(31,54)]e\"\n[(31,55)].\"\n[(31,56)]clientY\"\n[(31,64)]}\"\n[(31,66)]}\"\n[(31,67)])\"\n[(31,68)];\"\n[(32,8)]e\"\n[(32,9)].\"\n[(32,10)]preventDefault\"\n[(32,24)](\"\n[(32,25)])\"\n[(32,26)];\"\n[(33,4)]}\"\n[(34,4)]onMouseDown\"\n[(34,15)](\"\n[(34,16)]e\"\n[(34,17)])\"\n[(34,19)]{\"\n[(35,8)]this\"\n[(35,12)].\"\n[(35,13)]setState\"\n[(35,21)](\"\n[(35,22)]{\"\n[(36,12)]dragEnabled\"\n[(36,23)]:\"\n[(36,25)]true\"\n[(36,29)],\"\n[(37,12)]dragStart\"\n[(37,21)]:\"\n[(37,23)]{\"\n[(37,25)]x\"\n[(37,26)]:\"\n[(37,28)]e\"\n[(37,29)].\"\n[(37,30)]clientX\"\n[(37,37)],\"\n[(37,39)]y\"\n[(37,40)]:\"\n[(37,42)]e\"\n[(37,43)].\"\n[(37,44)]clientY\"\n[(37,52)]}\"\n[(38,8)]}\"\n[(38,9)])\"\n[(38,10)];\"\n[(40,8)]document\"\n[(40,16)].\"\n[(40,17)]addEventListener\"\n[(40,33)](\"\n[(40,34)]\"\"\n[(40,44)]\"\"\n[(40,45)],\"\n[(40,47)]this\"\n[(40,51)].\"\n[(40,52)]onMouseMove\"\n[(40,63)],\"\n[(40,65)]true\"\n[(40,69)])\"\n[(40,70)];\"\n[(41,8)]document\"\n[(41,16)].\"\n[(41,17)]addEventListener\"\n[(41,33)](\"\n[(41,34)]\"\"\n[(41,42)]\"\"\n[(41,43)],\"\n[(41,45)]this\"\n[(41,49)].\"\n[(41,50)]onMouseUp\"\n[(41,59)],\"\n[(41,61)]true\"\n[(41,65)])\"\n[(41,66)];\"\n[(42,8)]e\"\n[(42,9)].\"\n[(42,10)]preventDefault\"\n[(42,24)](\"\n[(42,25)])\"\n[(42,26)];\"\n[(43,4)]}\"\n[(44,4)]render\"\n[(44,10)](\"\n[(44,11)])\"\n[(44,13)]{\"\n[(45,8)]const\"\n[(45,14)]{\"\n[(45,16)]Elem\"\n[(45,20)],\"\n[(45,22)]onDrag\"\n[(45,28)],\"\n[(45,30)]...\"\n[(45,33)]rest\"\n[(45,38)]}\"\n[(45,40)]=\"\n[(45,42)]this\"\n[(45,46)].\"\n[(45,47)]props\"\n[(45,52)];\"\n[(46,8)]return\"\n[(46,15)]<\"\n[(46,16)]Elem\"\n[(46,21)]onMouseDown\"\n[(46,32)]=\"\n[(46,33)]{\"\n[(46,34)]this\"\n[(46,38)].\"\n[(46,39)]onMouseDown\"\n[(46,50)]}\"\n[(46,52)]{\"\n[(46,53)]...\"\n[(46,56)]rest\"\n[(46,60)]}\"\n[(46,62)]/\"\n[(46,63)]>\"\n[(46,64)];\"\n[(47,4)]}\"\n[(49,0)]}\"\n[(51,0)]export\"\n[(51,7)]default\"\n[(51,15)]Draggable\"\n[(51,24)];\"\n"
     ]
    }
   ],
   "source": [
    "pprint(snapshot.tokens)"
   ]
  },
  {
   "cell_type": "markdown",
   "metadata": {},
   "source": [
    "## Get diff of two snapshots"
   ]
  },
  {
   "cell_type": "code",
   "execution_count": 8,
   "metadata": {},
   "outputs": [],
   "source": [
    "diff = tracker.diff(0, 7)\n",
    "\n",
    "for change in diff.token_changes:\n",
    "    if change.type == \"edited\":\n",
    "        print(change)"
   ]
  },
  {
   "cell_type": "markdown",
   "metadata": {},
   "source": [
    "## Query tokens by their text"
   ]
  },
  {
   "cell_type": "code",
   "execution_count": 11,
   "metadata": {},
   "outputs": [],
   "source": [
    "comment_token = tracker.get_first_token_by_text(\"/** Returns if the word is in the trie inserted text. */\")"
   ]
  },
  {
   "cell_type": "markdown",
   "metadata": {},
   "source": [
    "## Track a token's history"
   ]
  },
  {
   "cell_type": "code",
   "execution_count": 12,
   "metadata": {},
   "outputs": [
    {
     "output_type": "error",
     "ename": "AttributeError",
     "evalue": "'NoneType' object has no attribute 'id'",
     "traceback": [
      "\u001b[0;31m---------------------------------------------------------------------------\u001b[0m",
      "\u001b[0;31mAttributeError\u001b[0m                            Traceback (most recent call last)",
      "\u001b[0;32m<ipython-input-12-2c4ab4575a33>\u001b[0m in \u001b[0;36m<module>\u001b[0;34m\u001b[0m\n\u001b[0;32m----> 1\u001b[0;31m \u001b[0mtoken_change_history\u001b[0m \u001b[0;34m=\u001b[0m \u001b[0mtracker\u001b[0m\u001b[0;34m.\u001b[0m\u001b[0mget_token_history\u001b[0m\u001b[0;34m(\u001b[0m\u001b[0mcomment_token\u001b[0m\u001b[0;34m.\u001b[0m\u001b[0mid\u001b[0m\u001b[0;34m)\u001b[0m\u001b[0;34m\u001b[0m\u001b[0;34m\u001b[0m\u001b[0m\n\u001b[0m\u001b[1;32m      2\u001b[0m \u001b[0;32mfor\u001b[0m \u001b[0mtoken_change\u001b[0m \u001b[0;32min\u001b[0m \u001b[0mtoken_change_history\u001b[0m\u001b[0;34m:\u001b[0m\u001b[0;34m\u001b[0m\u001b[0;34m\u001b[0m\u001b[0m\n\u001b[1;32m      3\u001b[0m     \u001b[0mpprint\u001b[0m\u001b[0;34m(\u001b[0m\u001b[0mtoken_change\u001b[0m\u001b[0;34m)\u001b[0m\u001b[0;34m\u001b[0m\u001b[0;34m\u001b[0m\u001b[0m\n\u001b[1;32m      4\u001b[0m     \u001b[0mprint\u001b[0m\u001b[0;34m(\u001b[0m\u001b[0;34m)\u001b[0m\u001b[0;34m\u001b[0m\u001b[0;34m\u001b[0m\u001b[0m\n",
      "\u001b[0;31mAttributeError\u001b[0m: 'NoneType' object has no attribute 'id'"
     ]
    }
   ],
   "source": [
    "\n",
    "\n",
    "token_change_history = tracker.get_token_history(comment_token.id)\n",
    "for token_change in token_change_history:\n",
    "    pprint(token_change)\n",
    "    print()"
   ]
  },
  {
   "cell_type": "markdown",
   "metadata": {},
   "source": [
    "## Get fixations for snapshots/ranges"
   ]
  },
  {
   "cell_type": "code",
   "execution_count": 13,
   "metadata": {},
   "outputs": [
    {
     "output_type": "execute_result",
     "data": {
      "text/plain": [
       "             x           y          target  source_file_line  source_file_col  \\\n",
       "41  234.500000  657.437500  Sample-Data.js                18                7   \n",
       "42  230.133333  671.600000  Sample-Data.js                18                7   \n",
       "43  225.176471  634.470588  Sample-Data.js                18                7   \n",
       "44  259.125000  643.812500  Sample-Data.js                18                9   \n",
       "\n",
       "    left_pupil_diameter  right_pupil_diameter  duration  fixation_event_time  \\\n",
       "41            26.389413             25.437667       115   132666022148330968   \n",
       "42            26.004833             25.356585       120   132666022149968089   \n",
       "43            25.150409             25.363861       143   132666022153919549   \n",
       "44            24.682992             24.791780       116   132666022157774763   \n",
       "\n",
       "      system_time  syntax_node_offset syntax_node  syntax_node_id  \\\n",
       "41  1622128614827                 NaN        None             NaN   \n",
       "42  1622128614991                 NaN        None             NaN   \n",
       "43  1622128615386                 NaN        None             NaN   \n",
       "44  1622128615772                 1.0  identifier          1492.0   \n",
       "\n",
       "   syntax_node_text  \n",
       "41             None  \n",
       "42             None  \n",
       "43             None  \n",
       "44         document  "
      ],
      "text/html": "<div>\n<style scoped>\n    .dataframe tbody tr th:only-of-type {\n        vertical-align: middle;\n    }\n\n    .dataframe tbody tr th {\n        vertical-align: top;\n    }\n\n    .dataframe thead th {\n        text-align: right;\n    }\n</style>\n<table border=\"1\" class=\"dataframe\">\n  <thead>\n    <tr style=\"text-align: right;\">\n      <th></th>\n      <th>x</th>\n      <th>y</th>\n      <th>target</th>\n      <th>source_file_line</th>\n      <th>source_file_col</th>\n      <th>left_pupil_diameter</th>\n      <th>right_pupil_diameter</th>\n      <th>duration</th>\n      <th>fixation_event_time</th>\n      <th>system_time</th>\n      <th>syntax_node_offset</th>\n      <th>syntax_node</th>\n      <th>syntax_node_id</th>\n      <th>syntax_node_text</th>\n    </tr>\n  </thead>\n  <tbody>\n    <tr>\n      <th>41</th>\n      <td>234.500000</td>\n      <td>657.437500</td>\n      <td>Sample-Data.js</td>\n      <td>18</td>\n      <td>7</td>\n      <td>26.389413</td>\n      <td>25.437667</td>\n      <td>115</td>\n      <td>132666022148330968</td>\n      <td>1622128614827</td>\n      <td>NaN</td>\n      <td>None</td>\n      <td>NaN</td>\n      <td>None</td>\n    </tr>\n    <tr>\n      <th>42</th>\n      <td>230.133333</td>\n      <td>671.600000</td>\n      <td>Sample-Data.js</td>\n      <td>18</td>\n      <td>7</td>\n      <td>26.004833</td>\n      <td>25.356585</td>\n      <td>120</td>\n      <td>132666022149968089</td>\n      <td>1622128614991</td>\n      <td>NaN</td>\n      <td>None</td>\n      <td>NaN</td>\n      <td>None</td>\n    </tr>\n    <tr>\n      <th>43</th>\n      <td>225.176471</td>\n      <td>634.470588</td>\n      <td>Sample-Data.js</td>\n      <td>18</td>\n      <td>7</td>\n      <td>25.150409</td>\n      <td>25.363861</td>\n      <td>143</td>\n      <td>132666022153919549</td>\n      <td>1622128615386</td>\n      <td>NaN</td>\n      <td>None</td>\n      <td>NaN</td>\n      <td>None</td>\n    </tr>\n    <tr>\n      <th>44</th>\n      <td>259.125000</td>\n      <td>643.812500</td>\n      <td>Sample-Data.js</td>\n      <td>18</td>\n      <td>9</td>\n      <td>24.682992</td>\n      <td>24.791780</td>\n      <td>116</td>\n      <td>132666022157774763</td>\n      <td>1622128615772</td>\n      <td>1.0</td>\n      <td>identifier</td>\n      <td>1492.0</td>\n      <td>document</td>\n    </tr>\n  </tbody>\n</table>\n</div>"
     },
     "metadata": {},
     "execution_count": 13
    }
   ],
   "source": [
    "fixations = tracker.get_fixations_for_snapshot(2)\n",
    "\n",
    "fixations.head(10)"
   ]
  },
  {
   "cell_type": "markdown",
   "metadata": {},
   "source": [
    "### Please check the detailed documentation at:\n",
    "### https://github.com/devjeetr/gazel"
   ]
  }
 ],
 "metadata": {
  "kernelspec": {
   "name": "python394jvsc74a57bd0fbe605173efebc759a6b3c462ccc87376853d330bf7fcf6fb3ac929fe706d290",
   "display_name": "Python 3.9.4 64-bit ('research': conda)"
  },
  "language_info": {
   "codemirror_mode": {
    "name": "ipython",
    "version": 3
   },
   "file_extension": ".py",
   "mimetype": "text/x-python",
   "name": "python",
   "nbconvert_exporter": "python",
   "pygments_lexer": "ipython3",
   "version": "3.9.4"
  }
 },
 "nbformat": 4,
 "nbformat_minor": 2
}